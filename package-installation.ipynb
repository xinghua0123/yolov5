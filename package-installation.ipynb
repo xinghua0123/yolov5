{
 "cells": [
  {
   "cell_type": "code",
   "execution_count": null,
   "metadata": {},
   "outputs": [],
   "source": [
    "!pip install nltk -i http://admin:P@ssw0rd@jfrog.sgcpc.local:8081/artifactory/api/pypi/pypi-local/simple --trusted-host jfrog.sgcpc.local\n",
    "!pip install igraph -i http://admin:P@ssw0rd@jfrog.sgcpc.local:8081/artifactory/api/pypi/pypi-local/simple --trusted-host jfrog.sgcpc.local\n",
    "!pip install opencv-python -i http://admin:P@ssw0rd@jfrog.sgcpc.local:8081/artifactory/api/pypi/pypi-local/simple --trusted-host jfrog.sgcpc.local\n",
    "!pip install pylearning -i http://admin:P@ssw0rd@jfrog.sgcpc.local:8081/artifactory/api/pypi/pypi-local/simple --trusted-host jfrog.sgcpc.local"
   ]
  },
  {
   "cell_type": "code",
   "execution_count": null,
   "metadata": {},
   "outputs": [],
   "source": [
    "# To be run in commandline\n",
    "\n",
    "source ~/anaconda3/etc/profile.d/conda.sh\n",
    "conda create -n open-mmlab python=3.7 -y\n",
    "conda activate open-mmlab\n",
    "conda install pytorch torchvision -c pytorch"
   ]
  },
  {
   "cell_type": "code",
   "execution_count": null,
   "metadata": {},
   "outputs": [],
   "source": [
    "# To be run in commandline\n",
    "\n",
    "conda create -n xeus-cling\n",
    "source activate xeus-cling\n",
    "conda install -c conda-forge xeus-cling\n",
    "source activate xeus-cling\n",
    "conda install -c r r-caret\n",
    "conda install -c conda-forge r-dplyr\n",
    "conda install -c r r-rocr\n",
    "conda install -c conda-forge r-onehot\n",
    "conda install -c conda-forge r-nnet"
   ]
  },
  {
   "cell_type": "code",
   "execution_count": null,
   "metadata": {},
   "outputs": [],
   "source": []
  }
 ],
 "metadata": {
  "kernelspec": {
   "display_name": "R",
   "language": "R",
   "name": "ir"
  },
  "language_info": {
   "codemirror_mode": "r",
   "file_extension": ".r",
   "mimetype": "text/x-r-source",
   "name": "R",
   "pygments_lexer": "r",
   "version": "3.6.0"
  }
 },
 "nbformat": 4,
 "nbformat_minor": 4
}
